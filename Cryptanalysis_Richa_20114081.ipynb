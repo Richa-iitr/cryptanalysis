{
  "nbformat": 4,
  "nbformat_minor": 0,
  "metadata": {
    "colab": {
      "provenance": []
    },
    "kernelspec": {
      "name": "python3",
      "display_name": "Python 3"
    },
    "language_info": {
      "name": "python"
    }
  },
  "cells": [
    {
      "cell_type": "markdown",
      "source": [
        "# **Shift Cipher**"
      ],
      "metadata": {
        "id": "4kQhSDy11YG2"
      }
    },
    {
      "cell_type": "code",
      "execution_count": 1,
      "metadata": {
        "colab": {
          "base_uri": "https://localhost:8080/"
        },
        "id": "qfY0__RU1Trn",
        "outputId": "6c403195-c994-4d0a-82d3-cd4c1fe13215"
      },
      "outputs": [
        {
          "output_type": "stream",
          "name": "stdout",
          "text": [
            "Ciphertext: whwgpbzwuvhmsofgwbrwoashsfobroddsofghcpsfciuvzmhwasghvsgwnscthvsaccbwbhvsbwuvhgymoggssbtfcasofhvboasrhvspwufwbupmhvsoghfcbcasfgwhwgaorsidctuozolwsgobruozolmqzighsfghvsmgomhvohwhwggcpwuwhqvozzsbusgcifibrsfghobrwbucthvsibwjsfgswhqobbchpsgssbkwhvhvsboysrsmswhwgfsozzmrwghobhobrwrsbhwtmwbuozzhvsuozolwsghvohaoysidhvspwuusfghfiqhifsvoghoysbozchcthwasobrqcadihwbudcksfgiqvzofusghfiqhifsggvcizrbchslwghoqqcfrwbuhccbscthvsuiwrwbudfwbqwdzsgctoghfcbcamqozzsrhvsqcgaczcuwqozdfwbqwdzshvwgghohsghvohozzaohhsfwggdfsorgacchvzmoqfcgghvsibwjsfgsozhvciuvghofgdzobshgobruozolwsgofsviusqziadgctaohhsfwbcifsmsgwbhvsqcbhslhcthvsgwnscthvsibwjsfgshvsmofswbgwubwtwqobhobrhvshvscfmwghvohaiqvpwuusfdohqvsgctaohhsfgvcizrbchtcfahvspwufwbuwgpmbcasobghvstwfghzwyszmjwczohwcbcthvsqcgaczcuwqozdfwbqwdzsobrgcgiuusghghvohhvsfswgobchvsfmshhcpsrwgqcjsfsrtoqhcfohdzomoqqcfrwbuhcrffcpsfhaoggsmrsdihmrwfsqhcfcthvsfcmozoghfcbcawqozgcqwshmhvssjwrsbqstcfofshvwbyctkvohvogpssboqsbhfozdzobyctoghfcbcamwgufckwbuhvwgwghvsgsjsbhvzofusghfiqhifsrwgqcjsfsrwbhvsibwjsfgshvohqcbhforwqhghvswrsohvohhvsqcgacgwggacchvcbhvszofusghgqozsgwthvsgsghfiqhifsgofsfsozhvsbwhgrstwbwhszmtccrtcfhvciuvhtcfqcgaczcuwghgobrhvsoqqsdhsrhvwbywbucbvckhvsibwjsfgsvogsjczjsrcjsfhwasvsgowr\n",
            "Decrypted text: itisbnlightyearsindiameterandappearstoberoughlytimesthesizeofthemooninthenightskyasseenfromearthnamedthebigringbytheastronomersitismadeupofgalaxiesandgalaxyclusterstheysaythatitissobigitchallengesourunderstandingoftheuniverseitcannotbeseenwiththenakedeyeitisreallydistantandidentifyingallthegalaxiesthatmakeupthebiggerstructurehastakenalotoftimeandcomputingpowersuchlargestructuresshouldnotexistaccordingtooneoftheguidingprinciplesofastronomycalledthecosmologicalprinciplethisstatesthatallmatterisspreadsmoothlyacrosstheuniversealthoughstarsplanetsandgalaxiesarehugeclumpsofmatterinoureyesinthecontextofthesizeoftheuniversetheyareinsignificantandthetheoryisthatmuchbiggerpatchesofmattershouldnotformthebigringisbynomeansthefirstlikelyviolationofthecosmologicalprincipleandsosuggeststhatthereisanotheryettobediscoveredfactoratplayaccordingtodrrobertmasseydeputydirectoroftheroyalastronomicalsocietytheevidenceforarethinkofwhathasbeenacentralplankofastronomyisgrowingthisistheseventhlargestructurediscoveredintheuniversethatcontradictstheideathatthecosmosissmoothonthelargestscalesifthesestructuresarerealthenitsdefinitelyfoodforthoughtforcosmologistsandtheacceptedthinkingonhowtheuniversehasevolvedovertimehesaid\n",
            "Shift: 14\n"
          ]
        }
      ],
      "source": [
        "def shift_decrypt(ciphertext, shift):\n",
        "    decrypted_text = \"\"\n",
        "    for char in ciphertext:\n",
        "        if char.isalpha():\n",
        "            if char.isupper():\n",
        "                decrypted_text += chr((ord(char) - shift - ord('A')) % 26 + ord('A'))\n",
        "            else:\n",
        "                decrypted_text += chr((ord(char) - shift - ord('a')) % 26 + ord('a'))\n",
        "        else:\n",
        "            decrypted_text += char\n",
        "    return decrypted_text\n",
        "\n",
        "def frequency_analysis(ciphertext):\n",
        "    letter_counts = {}\n",
        "    for char in ciphertext:\n",
        "        if char.isalpha():\n",
        "            if char in letter_counts:\n",
        "                letter_counts[char] += 1\n",
        "            else:\n",
        "                letter_counts[char] = 1\n",
        "\n",
        "    sorted_counts = sorted(letter_counts.items(), key=lambda x: x[1], reverse=True)\n",
        "    most_common_letter = sorted_counts[0][0]\n",
        "\n",
        "    # Assuming most_common_letter corresponds to 'E' (most common letter in English)\n",
        "    shift = ord(most_common_letter) - ord('e')\n",
        "    return shift\n",
        "\n",
        "def cryptanalysis_shift_cipher(ciphertext):\n",
        "    shift = frequency_analysis(ciphertext)\n",
        "    decrypted_text = shift_decrypt(ciphertext, shift)\n",
        "    return decrypted_text, shift\n",
        "\n",
        "ciphertext = input(\"Enter cipher text: \")\n",
        "# \"whwgpbzwuvhmsofgwbrwoashsfobroddsofghcpsfciuvzmhwasghvsgwnscthvsaccbwbhvsbwuvhgymoggssbtfcasofhvboasrhvspwufwbupmhvsoghfcbcasfgwhwgaorsidctuozolwsgobruozolmqzighsfghvsmgomhvohwhwggcpwuwhqvozzsbusgcifibrsfghobrwbucthvsibwjsfgswhqobbchpsgssbkwhvhvsboysrsmswhwgfsozzmrwghobhobrwrsbhwtmwbuozzhvsuozolwsghvohaoysidhvspwuusfghfiqhifsvoghoysbozchcthwasobrqcadihwbudcksfgiqvzofusghfiqhifsggvcizrbchslwghoqqcfrwbuhccbscthvsuiwrwbudfwbqwdzsgctoghfcbcamqozzsrhvsqcgaczcuwqozdfwbqwdzshvwgghohsghvohozzaohhsfwggdfsorgacchvzmoqfcgghvsibwjsfgsozhvciuvghofgdzobshgobruozolwsgofsviusqziadgctaohhsfwbcifsmsgwbhvsqcbhslhcthvsgwnscthvsibwjsfgshvsmofswbgwubwtwqobhobrhvshvscfmwghvohaiqvpwuusfdohqvsgctaohhsfgvcizrbchtcfahvspwufwbuwgpmbcasobghvstwfghzwyszmjwczohwcbcthvsqcgaczcuwqozdfwbqwdzsobrgcgiuusghghvohhvsfswgobchvsfmshhcpsrwgqcjsfsrtoqhcfohdzomoqqcfrwbuhcrffcpsfhaoggsmrsdihmrwfsqhcfcthvsfcmozoghfcbcawqozgcqwshmhvssjwrsbqstcfofshvwbyctkvohvogpssboqsbhfozdzobyctoghfcbcamwgufckwbuhvwgwghvsgsjsbhvzofusghfiqhifsrwgqcjsfsrwbhvsibwjsfgshvohqcbhforwqhghvswrsohvohhvsqcgacgwggacchvcbhvszofusghgqozsgwthvsgsghfiqhifsgofsfsozhvsbwhgrstwbwhszmtccrtcfhvciuvhtcfqcgaczcuwghgobrhvsoqqsdhsrhvwbywbucbvckhvsibwjsfgsvogsjczjsrcjsfhwasvsgowr\"\n",
        "decrypted_text, shift = cryptanalysis_shift_cipher(ciphertext)\n",
        "\n",
        "print(\"Ciphertext:\", ciphertext)\n",
        "print(\"Decrypted text:\", decrypted_text)\n",
        "print(\"Shift:\", shift)\n"
      ]
    },
    {
      "cell_type": "markdown",
      "source": [
        "# **Vigenere Cipher**"
      ],
      "metadata": {
        "id": "GOarpGg57PXR"
      }
    },
    {
      "cell_type": "code",
      "source": [
        "import math\n",
        "\n",
        "# Kasiski Test\n",
        "def find_repeating_ngram_indices(cipher_text, ngram_length=3):\n",
        "    ngram_positions = {}\n",
        "    p = 0\n",
        "    repeating_ngram = \"\"\n",
        "    found = False\n",
        "\n",
        "    for j in range(len(cipher_text) - ngram_length + 1):\n",
        "        indices = []\n",
        "        current_ngram = cipher_text[j:j + ngram_length]\n",
        "\n",
        "        for i in range(len(cipher_text) - ngram_length):\n",
        "            if cipher_text[i + ngram_length:i + 2 * ngram_length] == current_ngram:\n",
        "                indices.append(i)\n",
        "\n",
        "        if len(indices) > 3 and not found:\n",
        "            repeating_ngram = current_ngram\n",
        "            found = True\n",
        "\n",
        "        ngram_positions[current_ngram] = indices\n",
        "\n",
        "    return repeating_ngram, ngram_positions\n",
        "\n",
        "def calculate_key_length(positions):\n",
        "    key_length = positions[0] if positions else 0\n",
        "\n",
        "    for i in range(1, len(positions)):\n",
        "        key_length = math.gcd(key_length, positions[i])\n",
        "\n",
        "    return key_length\n",
        "\n",
        "# Frequency Analysis\n",
        "def divide_into_blocks(cipher_text, key_length):\n",
        "    block_size = key_length\n",
        "    num_blocks = len(cipher_text) // block_size\n",
        "    blocks = [cipher_text[i * block_size: (i + 1) * block_size] for i in range(num_blocks)]\n",
        "    return blocks\n",
        "\n",
        "def calculate_frequency_distribution(cipher_text, key_length):\n",
        "    actual_frequencies = [0.08167, 0.01492, 0.02782, 0.04253, 0.12702, 0.02228, 0.02015, 0.06094,\n",
        "                          0.06966, 0.00153, 0.00772, 0.04025, 0.02406, 0.06749, 0.07507, 0.01929,\n",
        "                          0.00095, 0.05987, 0.06327, 0.09056, 0.02758, 0.00978, 0.02360, 0.00150,\n",
        "                          0.01974, 0.00074]\n",
        "\n",
        "    key = [''] * key_length\n",
        "    for i in range(key_length):\n",
        "        current_block_frequencies = [0] * 26\n",
        "        for j in range(i, len(cipher_text), key_length):\n",
        "            if cipher_text[j].isalpha():\n",
        "                current_block_frequencies[ord(cipher_text[j].lower()) - ord('a')] += 1\n",
        "\n",
        "        for j in range(26):\n",
        "            current_block_frequencies[j] *= key_length\n",
        "            current_block_frequencies[j] = current_block_frequencies[j] / len(cipher_text)\n",
        "\n",
        "        yield current_block_frequencies\n",
        "\n",
        "def find_shift_key(actual_frequencies, current_frequencies):\n",
        "    all_muls = [(j, sum(actual_frequencies[k] * current_frequencies[(j + k) % 26] for k in range(26))) for j in range(26)]\n",
        "\n",
        "    max_mul = all_muls[0][1]\n",
        "    shift = 0\n",
        "    for j in range(26):\n",
        "        if max_mul < all_muls[j][1]:\n",
        "            max_mul = all_muls[j][1]\n",
        "            shift = j\n",
        "\n",
        "    return chr(shift + ord('a'))\n",
        "\n",
        "def decrypt_text(cipher_text, key_length):\n",
        "    actual_frequencies = [0.08167, 0.01492, 0.02782, 0.04253, 0.12702, 0.02228, 0.02015, 0.06094,\n",
        "                          0.06966, 0.00153, 0.00772, 0.04025, 0.02406, 0.06749, 0.07507, 0.01929,\n",
        "                          0.00095, 0.05987, 0.06327, 0.09056, 0.02758, 0.00978, 0.02360, 0.00150,\n",
        "                          0.01974, 0.00074]\n",
        "\n",
        "    key = [find_shift_key(actual_frequencies, current_frequencies)\n",
        "           for current_frequencies in calculate_frequency_distribution(cipher_text, key_length)]\n",
        "\n",
        "    print(\"Key:\", \"\".join(key))\n",
        "\n",
        "    print(\"Decrypted text:\", end=\"\")\n",
        "    plain_text = list(cipher_text)\n",
        "    for i in range(key_length):\n",
        "        for j in range(i, len(cipher_text), key_length):\n",
        "            if cipher_text[j].isalpha():\n",
        "                plain_text[j] = chr((ord(plain_text[j]) - ord(key[i]) + 26) % 26 + ord('a'))\n",
        "    print(\"\".join(plain_text))\n",
        "\n",
        "\n",
        "cipher_text = input(\"Enter cipher text: \")\n",
        "# cgqnfedmaubtirjwcaldedwxyeiihrhtynznxftilbcblcqxczmnxywwcmmjjkzigbwimellyaqblkkosnanivfjlbuzeillhnuzhkzivvommeyfsgpzejlviawhiikmnvaheuwyjbnbecsbcravruyefnftgcmwnrznxywcmngolrlmnvanssakcgkcecdihtmnsljyhqmmwksrxvvbswllyhvdzvjwyvbxeefsnomnivfacgpolvfeerlzcvaxcfzzecdcxvaoeelehqqyielmzlqikrdpnumbecsbcraolrlquxmptkzivvobiikxlhkoyiwlufbvovfefbbjjkaqynvygfetogqikggayeapgydeltmnximgnhzzwjzsoyliskwbcfbvgtgvxvvbxfgrybnolvyycqqikgjmhpqkpvksznaovffsglkvpcwhnumxsjesfbodgrdtlvvxmgdinuqnwksxyfbcekspfzioxvjmmfxmirvwgbwolcqewewnwkzioaqqiikiuybcslylmgimwgdehrbneevkuyismvkelrppkvupozxnsweengmmmegylrgzwzfxbrkjrkwbnbnolvkmtrwaxywyhvdzvjwxbrgvvvarmvoimwaguabvrullygpzsiqmmgpvxdmgboqbkvjtugkcijgjgnboiiklihtyrfljieuolvtmaeqikzkfsawhirfwnumamikxfvszppnmiyiomffszgpzgfkqiywbmtspjeqigzhpynvywfkyatmnxjllugbciiwmmnvjxywvsrbosswhcfkjzvjixsixxfjenctvcrugieldrxlsxezjfvjxgnanipvijhbthzjiwgwmswllyewtecswnewisdaguyajgzwxsgpzimahyakzjfjelrbcmecszjpvxyswvrmietwrneigtcsrebnvwkjshbutmjyvijqikkzmmvaolvkiprvolcsvaraovluxoemymjusprzzhzfxbrcimmwvmrbcekushgzvhzuxmgpzmuwenuioxywgifujwzkwgbwolffxbrtvvxwwnfkvpvkmzgpzwvkxlhkoyiwwuemmirdxbrvdxjvizvvdxvdczbwyjfjxbbcblkxslpwnqfdsavaowrfhnumvgtwtnrlolzfocaojryganumprznilfmcejwziydzhfnilgqhiywwuvl\n",
        "ngram_length = 3\n",
        "\n",
        "repeating_ngram, ngram_positions = find_repeating_ngram_indices(cipher_text, ngram_length)\n",
        "positions = [ngram_positions[repeating_ngram][i + 1] - ngram_positions[repeating_ngram][0] for i in range(len(ngram_positions[repeating_ngram]) - 1)]\n",
        "\n",
        "key_length = calculate_key_length(positions)\n",
        "\n",
        "if key_length > 0:\n",
        "      print(\"Possible length of the key:\", key_length)\n",
        "      decrypt_text(cipher_text, key_length)\n",
        "else:\n",
        "      print(\"Key length not found.\")\n"
      ],
      "metadata": {
        "colab": {
          "base_uri": "https://localhost:8080/"
        },
        "id": "9JWRdbBm1k2P",
        "outputId": "1e7483e5-0f89-42e7-f17a-67ae6fac3cf7"
      },
      "execution_count": 7,
      "outputs": [
        {
          "output_type": "stream",
          "name": "stdout",
          "text": [
            "Enter cipher text: cgqnfedmaubtirjwcaldedwxyeiihrhtynznxftilbcblcqxczmnxywwcmmjjkzigbwimellyaqblkkosnanivfjlbuzeillhnuzhkzivvommeyfsgpzejlviawhiikmnvaheuwyjbnbecsbcravruyefnftgcmwnrznxywcmngolrlmnvanssakcgkcecdihtmnsljyhqmmwksrxvvbswllyhvdzvjwyvbxeefsnomnivfacgpolvfeerlzcvaxcfzzecdcxvaoeelehqqyielmzlqikrdpnumbecsbcraolrlquxmptkzivvobiikxlhkoyiwlufbvovfefbbjjkaqynvygfetogqikggayeapgydeltmnximgnhzzwjzsoyliskwbcfbvgtgvxvvbxfgrybnolvyycqqikgjmhpqkpvksznaovffsglkvpcwhnumxsjesfbodgrdtlvvxmgdinuqnwksxyfbcekspfzioxvjmmfxmirvwgbwolcqewewnwkzioaqqiikiuybcslylmgimwgdehrbneevkuyismvkelrppkvupozxnsweengmmmegylrgzwzfxbrkjrkwbnbnolvkmtrwaxywyhvdzvjwxbrgvvvarmvoimwaguabvrullygpzsiqmmgpvxdmgboqbkvjtugkcijgjgnboiiklihtyrfljieuolvtmaeqikzkfsawhirfwnumamikxfvszppnmiyiomffszgpzgfkqiywbmtspjeqigzhpynvywfkyatmnxjllugbciiwmmnvjxywvsrbosswhcfkjzvjixsixxfjenctvcrugieldrxlsxezjfvjxgnanipvijhbthzjiwgwmswllyewtecswnewisdaguyajgzwxsgpzimahyakzjfjelrbcmecszjpvxyswvrmietwrneigtcsrebnvwkjshbutmjyvijqikkzmmvaolvkiprvolcsvaraovluxoemymjusprzzhzfxbrcimmwvmrbcekushgzvhzuxmgpzmuwenuioxywgifujwzkwgbwolffxbrtvvxwwnfkvpvkmzgpzwvkxlhkoyiwwuemmirdxbrvdxjvizvvdxvdczbwyjfjxbbcblkxslpwnqfdsavaowrfhnumvgtwtnrlolzfocaojryganumprznilfmcejwziydzhfnilgqhiywwuvl\n",
            "Possible length of the key: 8\n",
            "Key: universe\n",
            "Decrypted text:itisbnlightyearsindiameterandappearstoberoughlytimesthesizeofthemooninthenightskyasseenfromearthnamedthebigringbytheastronomersitismadeupofgalaxiesandgalaxyclusterstheysaythatitissobigitchallengesourunderstandingoftheuniverseitcannotbeseenwiththenakedeyeitisreallydistantandidentifyingallthegalaxiesthatmakeupthebiggerstructurehastakenalotoftimeandcomputingpowersuchlargestructuresshouldnotexistaccordingtooneoftheguidingprinciplesofastronomycalledthecosmologicalprinciplethisstatesthatallmatterisspreadsmoothlyacrosstheuniversealthoughstarsplanetsandgalaxiesarehugeclumpsofmatterinoureyesinthecontextofthesizeoftheuniversetheyareinsignificantandthetheoryisthatmuchbiggerpatchesofmattershouldnotformthebigringisbynomeansthefirstlikelyviolationofthecosmologicalprincipleandsosuggeststhatthereisanotheryettobediscoveredfactoratplayaccordingtodrrobertmasseydeputydirectoroftheroyalastronomicalsocietytheevidenceforarethinkofwhathasbeenacentralplankofastronomyisgrowingthisistheseventhlargestructurediscoveredintheuniversethatcontradictstheideathatthecosmosissmoothonthelargestscalesifthesestructuresarerealthenitsdefinitelyfoodforthoughtforcosmologistsandtheacceptedthinkingonhowtheuniversehasevolvedovertimehesaid\n"
          ]
        }
      ]
    }
  ]
}