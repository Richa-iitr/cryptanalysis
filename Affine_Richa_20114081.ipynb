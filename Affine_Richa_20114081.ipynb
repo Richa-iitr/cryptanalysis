{
  "nbformat": 4,
  "nbformat_minor": 0,
  "metadata": {
    "colab": {
      "provenance": []
    },
    "kernelspec": {
      "name": "python3",
      "display_name": "Python 3"
    },
    "language_info": {
      "name": "python"
    }
  },
  "cells": [
    {
      "cell_type": "markdown",
      "source": [
        "# Cryptanalysis | Affine Cipher"
      ],
      "metadata": {
        "id": "xtN8s3W_Rjfb"
      }
    },
    {
      "cell_type": "code",
      "source": [
        "from scipy.optimize import minimize\n",
        "import numpy as np"
      ],
      "metadata": {
        "id": "YpN2E7FJLX-b"
      },
      "execution_count": 31,
      "outputs": []
    },
    {
      "cell_type": "code",
      "execution_count": 47,
      "metadata": {
        "colab": {
          "base_uri": "https://localhost:8080/"
        },
        "id": "4uKCNejA7mdJ",
        "outputId": "d6281d40-8fd1-480c-b92f-a35a75ea03ab"
      },
      "outputs": [
        {
          "output_type": "stream",
          "name": "stdout",
          "text": [
            "Enter ciphertext: lvhhmlznzaluoklvyzingklhojnndofoaxofklygfyoinrffyilhnygngpohrphhpfypyuklrnhfcnaoinmlzpupzmnanbapynfynhvuunanglmafmvkhpfyulvkooilohzvmmnanglyxmafhmnzofulkvylaofvzigfjylygpojlhzfrrlygngofgnhoafxpohnkupyhonlgoinmapclonfmnalofampoohsvabislhnglhoafsfopzgpanzongoinzaluopyofnlaoihlorfhminanofsvayvmloalzdpybholopfypyzlysnaallvhoalkplzfyuparngkfhhfuhpbylkjpoimnanbapynlobro\n",
            "Ciphertext:  lvhhmlznzaluoklvyzingklhojnndofoaxofklygfyoinrffyilhnygngpohrphhpfypyuklrnhfcnaoinmlzpupzmnanbapynfynhvuunanglmafmvkhpfyulvkooilohzvmmnanglyxmafhmnzofulkvylaofvzigfjylygpojlhzfrrlygngofgnhoafxpohnkupyhonlgoinmapclonfmnalofampoohsvabislhnglhoafsfopzgpanzongoinzaluopyofnlaoihlorfhminanofsvayvmloalzdpybholopfypyzlysnaallvhoalkplzfyuparngkfhhfuhpbylkjpoimnanbapynlobro\n",
            "Potential key found:\n",
            " a = 7, \n",
            " b = 11 \n",
            " with mse = 0.0033890524539400995\n",
            "Decrypted Text:\n",
            "ausspacecraftlaunchedlastweektotrytolandonthemoonhasendeditsmissioninflamesoverthepacificperegrineonesufferedapropulsionfaultthatscupperedanyprospectofalunartouchdownanditwascommandedtodestroyitselfinsteadtheprivateoperatorpittsburghbasedastroboticdirectedthecraftintoearthsatmospheretoburnupatrackingstationincanberraaustraliaconfirmedlossofsignalwithperegrineatgmt\n"
          ]
        }
      ],
      "source": [
        "actual_freq = {\n",
        "    'e': 0.127, 't': 0.0906, 'a': 0.0817, 'o': 0.0751, 'i': 0.0697,\n",
        "    'n': 0.0675, 's': 0.0633, 'h': 0.0609, 'r': 0.0599, 'd': 0.0425,\n",
        "    'l': 0.0403, 'c': 0.0278, 'u': 0.0276, 'm': 0.0241, 'w': 0.0236,\n",
        "    'f': 0.0223, 'g': 0.0202, 'y': 0.0197, 'p': 0.0193, 'b': 0.0129,\n",
        "    'v': 0.0098, 'k': 0.0077, 'j': 0.0015, 'x': 0.0015, 'q': 0.0010,\n",
        "    'z': 0.0007\n",
        "}\n",
        "res_a = 0\n",
        "res_b = 0\n",
        "res_mse = float('inf')\n",
        "decrypted = \"\"\n",
        "\n",
        "# computng euclid's gcd\n",
        "def egcd(a, b):\n",
        "    if a == 0:\n",
        "        return b, 0, 1\n",
        "    else:\n",
        "        g, x, y = egcd(b % a, a)\n",
        "        return g, y - (b // a) * x, x\n",
        "\n",
        "# modulo inverse\n",
        "def modinv(a, m):\n",
        "    g, x, y = egcd(a, m)\n",
        "    if g != 1:\n",
        "        raise Exception('Modular inverse does not exist')\n",
        "    else:\n",
        "        return x % m\n",
        "\n",
        "# mean squarred error\n",
        "def find_mse(plaintext):\n",
        "  decrypt_frequency = {}\n",
        "  mse = 0\n",
        "  for char in plaintext:\n",
        "      decrypt_frequency[char] = decrypt_frequency.get(char, 0) + 1\n",
        "  for char in decrypt_frequency:\n",
        "    decrypt_frequency[char]/=len(plaintext)\n",
        "    mse += ((decrypt_frequency[char]-actual_freq[char])**2)\n",
        "  return mse\n",
        "\n",
        "# decrypt with key using function dK (y) = a^−1 (y − b) mod 26\n",
        "def decrypt_affine(ciphertext, a, b):\n",
        "    plaintext = ''\n",
        "\n",
        "    for char in ciphertext:\n",
        "        if char.isalpha():\n",
        "            char_num = ord(char) - ord('a')\n",
        "            decrypted_char_num = (modinv(a, 26) * (char_num - b)) % 26\n",
        "            plaintext += chr(decrypted_char_num + ord('a'))\n",
        "        else:\n",
        "            plaintext += char\n",
        "    return plaintext\n",
        "\n",
        "# computing frequencies for subsititution, most frequent to 'e' and then 't' and so on\n",
        "def analyze_ciphertext_frequency(ciphertext):\n",
        "    frequency = {}\n",
        "    for char in ciphertext:\n",
        "        if char.isalpha():\n",
        "            char = char.lower()\n",
        "            frequency[char] = frequency.get(char, 0) + 1\n",
        "    return frequency\n",
        "\n",
        "# solving ax + b = k for 'e' and 't' substitutions\n",
        "def solve_eq(x1,x2):\n",
        "  a = ((x2-x1)) % 26\n",
        "  a = a * modinv(15, 26)\n",
        "  a = a %26\n",
        "  b = ( x1 - 4*a) % 26\n",
        "  return a,b\n",
        "\n",
        "# key computing based on mse\n",
        "def find_possible_key(frequency, most_frequent_letter, target_letter, ciphertext):\n",
        "    global res_a\n",
        "    global res_b\n",
        "    global res_mse\n",
        "    global decrypted\n",
        "    x1_candidate = (ord(target_letter) - ord('a')) % 26\n",
        "    for letter in frequency:\n",
        "      if(ord(letter) - ord('a') != x1_candidate):\n",
        "        x2_candidate = (ord(letter) - ord('a')) % 26\n",
        "        # print(f\"{x1_candidate},{x2_candidate}\")\n",
        "        a_candidate, b_candidate = solve_eq(x1_candidate,x2_candidate)\n",
        "        if egcd(a_candidate, 26)[0] == 1:\n",
        "            pt = decrypt_affine(ciphertext, a_candidate, b_candidate)\n",
        "            mse = find_mse(pt)\n",
        "            # print(mse)\n",
        "            # print(res_mse)\n",
        "            if mse < res_mse:\n",
        "              res_mse = mse\n",
        "              res_a = a_candidate\n",
        "              res_b = b_candidate\n",
        "              decrypted = pt\n",
        "\n",
        "\n",
        "ciphertext = input(\"Enter ciphertext: \")\n",
        "# \"FMXVEDKAPHFERBNDKRXRSREFMORUDSDKDVSHVUFEDKAPRKDLYEVLRHHRH\"\n",
        "ciphertext = ciphertext.lower()\n",
        "print(\"Ciphertext: \",ciphertext)\n",
        "frequency = analyze_ciphertext_frequency(ciphertext)\n",
        "most_frequent_letters = sorted(frequency, key=frequency.get, reverse=True)\n",
        "\n",
        "target_letter_e = 'e'\n",
        "target_letter_t = 't'\n",
        "\n",
        "for letter_t in most_frequent_letters:\n",
        "  find_possible_key(most_frequent_letters, target_letter_e, letter_t, ciphertext)\n",
        "\n",
        "\n",
        "print(f\"Potential key found:\\n a = {res_a}, \\n b = {res_b} \\n with mse = {res_mse}\")\n",
        "print(\"Decrypted Text:\")\n",
        "print(decrypted)\n",
        "\n"
      ]
    },
    {
      "cell_type": "markdown",
      "source": [
        "**a = 7, b=11**"
      ],
      "metadata": {
        "id": "sFJefcibSiEP"
      }
    }
  ]
}