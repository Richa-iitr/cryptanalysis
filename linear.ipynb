{
  "nbformat": 4,
  "nbformat_minor": 0,
  "metadata": {
    "colab": {
      "provenance": []
    },
    "kernelspec": {
      "name": "python3",
      "display_name": "Python 3"
    },
    "language_info": {
      "name": "python"
    }
  },
  "cells": [
    {
      "cell_type": "markdown",
      "source": [
        "# SPN"
      ],
      "metadata": {
        "id": "02tnxtsx9RkD"
      }
    },
    {
      "cell_type": "code",
      "source": [
        "def dot_pdt(u,v):\n",
        "  w = u & v\n",
        "  dot = 0\n",
        "  while w!=0:\n",
        "    dot ^= w & 1\n",
        "    w >>= 1\n",
        "  return dot"
      ],
      "metadata": {
        "id": "CLDmPZGQ1675"
      },
      "execution_count": 1,
      "outputs": []
    },
    {
      "cell_type": "code",
      "source": [
        "def bias_int(S,alpha,beta,n):\n",
        "  e = 0\n",
        "  for x in range(2**n):\n",
        "    if dot_pdt(alpha, x) ^ dot_pdt(beta, S[x]) == 0:\n",
        "      e+=1\n",
        "  return e - 2 **(n-1)"
      ],
      "metadata": {
        "id": "pW7YvkIi8MQh"
      },
      "execution_count": 9,
      "outputs": []
    },
    {
      "cell_type": "code",
      "source": [
        "def lat(S,n,m):\n",
        "  L = [[0] * (2**m) for _ in range(2**n)]\n",
        "  for alpha in range(2**n):\n",
        "    for beta in range (2**m):\n",
        "      L[alpha][beta] = bias_int(S, alpha,beta,n)\n",
        "  return L"
      ],
      "metadata": {
        "id": "xHudythZ8r4x"
      },
      "execution_count": 10,
      "outputs": []
    },
    {
      "cell_type": "code",
      "source": [
        "def print_lat(S, n, m):\n",
        "\tL = lat(S, n, m)\n",
        "\tfor alpha in range(2 ** n):\n",
        "\t\tfor beta in range (2 ** m):\n",
        "\t\t\te = str(L[alpha][beta]).rjust(2)\n",
        "\t\t\tprint(e, end=' ')\n",
        "\t\tprint()"
      ],
      "metadata": {
        "id": "2f2b2bih-B7p"
      },
      "execution_count": 11,
      "outputs": []
    },
    {
      "cell_type": "code",
      "source": [
        "# Hey's tutorial\n",
        "H = [0xe, 0x4, 0xd, 0x1, 0x2, 0xf, 0xb, 0x8, 0x3, 0xa, 0x6, 0xc, 0x5, 0x9, 0x0, 0x7]\n",
        "print_lat(H,4,4)"
      ],
      "metadata": {
        "colab": {
          "base_uri": "https://localhost:8080/"
        },
        "id": "pf2q7l8v9QDU",
        "outputId": "79e5c882-ae31-40cf-a70b-041c6ca200ba"
      },
      "execution_count": 12,
      "outputs": [
        {
          "output_type": "stream",
          "name": "stdout",
          "text": [
            " 8  0  0  0  0  0  0  0  0  0  0  0  0  0  0  0 \n",
            " 0  0 -2 -2  0  0 -2  6  2  2  0  0  2  2  0  0 \n",
            " 0  0 -2 -2  0  0 -2 -2  0  0  2  2  0  0 -6  2 \n",
            " 0  0  0  0  0  0  0  0  2 -6 -2 -2  2  2 -2 -2 \n",
            " 0  2  0 -2 -2 -4 -2  0  0 -2  0  2  2 -4  2  0 \n",
            " 0 -2 -2  0 -2  0  4  2 -2  0 -4  2  0 -2 -2  0 \n",
            " 0  2 -2  4  2  0  0  2  0 -2  2  4 -2  0  0 -2 \n",
            " 0 -2  0  2  2 -4  2  0 -2  0  2  0  4  2  0  2 \n",
            " 0  0  0  0  0  0  0  0 -2  2  2 -2  2 -2 -2 -6 \n",
            " 0  0 -2 -2  0  0 -2 -2 -4  0 -2  2  0  4  2 -2 \n",
            " 0  4 -2  2 -4  0  2 -2  2  2  0  0  2  2  0  0 \n",
            " 0  4  0 -4  4  0  4  0  0  0  0  0  0  0  0  0 \n",
            " 0 -2  4 -2 -2  0  2  0  2  0  2  4  0  2  0 -2 \n",
            " 0  2  2  0 -2  4  0  2 -4 -2  2  0  2  0  0  2 \n",
            " 0  2  2  0 -2 -4  0  2 -2  0  0 -2 -4  2 -2  0 \n",
            " 0 -2 -4 -2 -2  0  2  0  0 -2  4 -2 -2  0  2  0 \n"
          ]
        }
      ]
    }
  ]
}